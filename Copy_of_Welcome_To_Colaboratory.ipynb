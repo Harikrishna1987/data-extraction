{
  "nbformat": 4,
  "nbformat_minor": 0,
  "metadata": {
    "colab": {
      "name": "Copy of Welcome To Colaboratory",
      "provenance": [],
      "collapsed_sections": [],
      "toc_visible": true
    },
    "kernelspec": {
      "display_name": "Python 3",
      "name": "python3"
    }
  },
  "cells": [
    {
      "cell_type": "code",
      "metadata": {
        "id": "aoujfKWpXgjA"
      },
      "source": [
        "import numpy as np\n",
        "import pandas as pd\n",
        "from keras.models import Sequential"
      ],
      "execution_count": null,
      "outputs": []
    },
    {
      "cell_type": "code",
      "metadata": {
        "id": "Roa8Jrv0Xkol"
      },
      "source": [
        "with open(\"Screener_Infosys.txt\", \"r\") as f:\n",
        "  Screener = f.readlines()"
      ],
      "execution_count": null,
      "outputs": []
    },
    {
      "cell_type": "code",
      "metadata": {
        "id": "esvvlczdXoyT"
      },
      "source": [
        "nlp = spacy.load('en_core_web_sm',disable=['ner','textcat'])"
      ],
      "execution_count": null,
      "outputs": []
    },
    {
      "cell_type": "code",
      "metadata": {
        "id": "8QIfH5dQXr3z"
      },
      "source": [
        "Screener = \"Close Home Screens Tools Create a stock screen Run queries on 10 years of financial data Premium features Export / import trade data See price trends of raw materials and finished goods Search shareholders See companies where a person holds over 1% of the shares Credit rating reports Search credit ratings reports of unlisted competitors Upgrade to premium Login Get free account Screens Tools Login Get account Infosys Chart Analysis Peers Quarters Profit & Loss Balance Sheet Cash Flow Ratios Investors Documents Infosys Ltd Export to Excel Follow infosys.com BSE: 500209 NSE : INFY About Infosys is a leading provider of consulting, technology, outsourcing and next-generation digital services, enabling clients to execute strategies for their digital transformation. Infosys strategic objective is to build a sustainable organization that remains relevant to the agenda of clients, while creating growth opportunities for employees and generating profitable returns for investors.(Source : 201903 Annual Report Page No: 5) show more Website BSE NSE Market Cap ₹ 480,357 Cr. Current Price ₹ 1,128 High / Low ₹ 1,186 / 509 Stock P/E 26.8 Book Value ₹ 167 Dividend Yield 1.55 % ROCE 32.6 % ROE 25.3 % Face Value ₹ 5.00 Add ratio to table Edit ratios 1m 3m 6m 1Yr 3Yr 5Yr Max Price Price to Earning Pros Company is virtually debt free. Company has been maintaining a healthy dividend payout of 54.56% Cons The company has delivered a poor growth of 11.23% over past five years. Promoter holding is low: 13.21% Peer comparison Sector: IT - Software Industry: Computers - Software - Large Edit Columns Loading peers table ... Detailed Comparison with: Quarterly Results Consolidated Figures in Rs. Crores / View Standalone Close Segments Product Segments Dec 2017 Mar 2018 Jun 2018 Sep 2018 Dec 2018 Mar 2019 Jun 2019 Sep 2019 Dec 2019 Mar 2020 Jun 2020 Sep 2020 Sales + 17,794 18,083 19,128 20,609 21,400 21,539 21,803 22,629 23,092 23,267 23,665 24,570 Expenses + 12,977 13,271 14,425 15,252 16,441 16,390 16,651 16,990 17,291 17,591 17,544 17,487 Operating Profit 4,817 4,812 4,703 5,357 4,959 5,149 5,152 5,639 5,801 5,676 6,121 7,083 OPM % 27% 27% 25% 26% 23% 24% 24% 25% 25% 24% 26% 29% Other Income 962 652 726 739 753 665 736 626 827 614 475 570 Interest 0 0 0 0 0 0 40 42 42 45 48 48 Depreciation 498 458 436 463 580 531 681 727 737 749 756 855 Profit before tax 5,281 5,006 4,993 5,633 5,132 5,283 5,167 5,496 5,849 5,496 5,792 6,750 Tax % 3% 26% 28% 27% 30% 23% 26% 27% 24% 21% 26% 28% Net Profit 5,129 3,690 3,612 4,110 3,609 4,074 3,798 4,019 4,457 4,321 4,233 4,845 EPS in Rs 11.27 4.25 4.15 9.45 8.30 9.37 8.83 9.46 10.51 10.19 9.98 11.42 Notes Notes Notes Notes Notes Notes Notes Notes Notes Notes Notes Notes Profit & Loss Consolidated Figures in Rs. Crores / View Standalone Close Segments Product Segments Mar 2009 Mar 2010 Mar 2011 Mar 2012 Mar 2013 Mar 2014 Mar 2015 Mar 2016 Mar 2017 Mar 2018 Mar 2019 Mar 2020 TTM Sales + 21,693 22,742 27,501 33,734 40,352 50,133 53,319 62,441 68,484 70,522 82,675 90,791 94,594 Expenses + 14,934 14,879 18,531 23,007 28,814 36,743 38,436 45,362 49,880 51,700 62,505 68,524 69,913 Operating Profit 6,759 7,863 8,970 10,727 11,538 13,390 14,883 17,079 18,604 18,822 20,170 22,267 24,681 OPM % 31% 35% 33% 32% 29% 27% 28% 27% 27% 27% 24% 25% 26% Other Income 912 991 1,211 1,904 2,365 2,664 3,430 3,120 3,050 3,311 2,882 2,803 2,486 Interest 3 2 2 4 5 9 12 0 0 0 0 170 183 Depreciation 761 905 854 928 1,099 1,317 1,017 1,459 1,703 1,863 2,011 2,893 3,097 Profit before tax 6,907 7,947 9,325 11,699 12,799 14,728 17,284 18,740 19,951 20,270 21,041 22,007 23,887 Tax % 13% 21% 27% 29% 26% 28% 28% 28% 28% 21% 27% 24% Net Profit 5,988 6,266 6,835 8,332 9,429 10,656 12,372 13,489 14,353 16,029 15,404 16,594 17,856 EPS in Rs 12.59 13.17 13.70 17.25 19.72 21.94 24.78 26.76 31.36 36.83 35.49 39.10 42.10 Dividend Payout % 22% 23% 50% 32% 25% 34% 55% 41% 41% 59% 60% 45% Compounded Sales Growth 10 Years: 15% 5 Years: 11% 3 Years: 10% TTM: 8% Compounded Profit Growth 10 Years: 10% 5 Years: 6% 3 Years: 5% TTM: 15% Stock Price CAGR 10 Years: 12% 5 Years: 16% 3 Years: 34% 1 Year: 47% Return on Equity 10 Years: 25% 5 Years: 24% 3 Years: 24% Last Year: 25% Balance Sheet Consolidated Figures in Rs. Crores / View Standalone Corporate actions Mar 2009 Mar 2010 Mar 2011 Mar 2012 Mar 2013 Mar 2014 Mar 2015 Mar 2016 Mar 2017 Mar 2018 Mar 2019 Mar 2020 Sep 2020 Share Capital + 286 286 286 286 286 286 572 1,144 1,144 1,088 2,170 2,122 2,123 Reserves 17,968 22,763 25,690 31,046 37,708 44,244 50,164 60,600 67,838 63,835 62,778 63,328 68,877 Borrowings 0 0 0 0 0 0 0 0 0 0 0 4,633 4,715 Other Liabilities + 3,872 4,455 5,317 7,025 8,281 12,436 15,553 13,354 14,166 14,426 19,118 21,717 22,863 Total Liabilities 22,126 27,504 31,293 38,357 46,275 56,966 66,289 75,098 83,148 79,349 84,066 91,800 98,578 Fixed Assets + 4,677 4,946 5,235 5,555 7,139 8,378 11,346 13,386 14,179 12,574 15,710 23,789 23,639 CWIP 677 409 264 590 1,140 961 776 960 1,365 1,606 1,388 954 1,216 Investments 0 3,702 144 372 2,116 4,331 2,270 1,892 16,423 12,163 11,261 8,792 11,354 Other Assets + 16,772 18,447 25,650 31,840 35,880 43,296 51,897 58,860 51,181 53,006 55,707 58,265 62,369 Total Assets 22,126 27,504 31,293 38,357 46,275 56,966 66,289 75,098 83,148 79,349 84,066 91,800 98,578 Cash Flows Consolidated Figures in Rs. Crores / View Standalone Mar 2009 Mar 2010 Mar 2011 Mar 2012 Mar 2013 Mar 2014 Mar 2015 Mar 2016 Mar 2017 Mar 2018 Mar 2019 Mar 2020 Cash from Operating Activity + 5,401 6,187 4,752 6,394 7,373 9,825 8,353 10,028 11,531 13,218 14,841 17,003 Cash from Investing Activity + -213 -3,634 3,443 -147 -2,922 -2,563 999 -885 -14,664 4,533 -632 -331 Cash from Financing Activity + -2,430 -1,485 -3,640 -2,322 -3,210 -3,144 -4,935 -6,813 -6,939 -20,505 -14,512 -17,591 Net Cash Flow 2,758 1,068 4,555 3,925 1,241 4,118 4,417 2,330 -10,072 -2,754 -303 -919 Ratios Consolidated Figures in Rs. Crores / View Standalone Mar 2009 Mar 2010 Mar 2011 Mar 2012 Mar 2013 Mar 2014 Mar 2015 Mar 2016 Mar 2017 Mar 2018 Mar 2019 Mar 2020 ROCE % 43% 38% 38% 41% 37% 36% 36% 33% 30% 30% 32% 33% Debtor Days 62 56 62 64 64 61 66 66 66 68 65 74 Inventory Turnover Shareholding Pattern Numbers in percentages Sep 2017 Dec 2017 Mar 2018 Jun 2018 Sep 2018 Dec 2018 Mar 2019 Jun 2019 Sep 2019 Dec 2019 Mar 2020 Jun 2020 Promoters + 12.75 12.90 12.90 12.90 12.82 12.82 12.84 13.04 13.15 13.15 13.15 13.15 FIIs + 34.08 35.00 35.24 34.87 35.05 34.46 34.04 33.32 33.51 31.76 31.01 30.47 DIIs + 22.14 21.76 21.55 22.50 22.17 22.57 22.87 23.02 22.79 23.99 24.68 25.43 Public + 30.56 29.85 29.82 29.24 29.48 29.67 29.78 30.15 30.10 30.66 30.73 30.53 Others + 0.47 0.49 0.49 0.49 0.48 0.47 0.47 0.47 0.44 0.44 0.43 0.42 Documents Recent announcements Newspaper Advertisement Pertaining To Financial Results Of Q2 FY 2021 22h Modification To The Trust Deeds Consequent To The Change In Composition Of The Trustees - Infosys Employee Benefits Trust And Infosys Expanded Stock Ownership Trust 22h Fixes Record Date for Interim Dividend 1d Statement Of Investor Complaints For The Quarter Ended September 2020 1d Announcement under Regulation 30 (LODR)-Press Release / Media Release 2d View all Annual reports Financial Year 2020 from bse Financial Year 2019 from bse Financial Year 2018 from bse Financial Year 2017 from bse Financial Year 2016 from bse Financial Year 2015 from bse Financial Year 2014 from bse Financial Year 2013 from bse Financial Year 2012 from bse Financial Year 2011 from bse Financial Year 2010 from bse Financial Year 2010 from nse Credit ratings Infosys Limited: Long-term rating removed from 'Watch Developing' ; Ratings Reaffirmed Jan 21 from crisil Infosys Limited: Rating placed on 'Watch Developing' 25 Oct 2019 from crisil Ratings on Infosys Limited (Infosys) remain unaffected by the proposed share buyback announcement 17 Jan 2019 from crisil Infosys Limited: Ratings Reaffirmed 29 Jun 2018 from crisil Stock analysis and screening tool Mittal Analytics Private Ltd © 2009–2020 Made with in India. Data provided by C-MOTS Internet Technologies Pvt Ltd Terms & Privacy . Product Home Features 5 minutes guide Premium What's new? Team About us Support Theme Light Dark Auto Mittal Analytics Private Ltd © 2009–2020 Data provided by C-MOTS Internet Technologies Pvt Ltd Terms & Privacy .\""
      ],
      "execution_count": null,
      "outputs": []
    },
    {
      "cell_type": "code",
      "metadata": {
        "id": "4Dj9JVT1X7_U"
      },
      "source": [
        "import nltk"
      ],
      "execution_count": null,
      "outputs": []
    },
    {
      "cell_type": "code",
      "metadata": {
        "id": "kzzdHN9oX0aT",
        "outputId": "af7f5d29-100f-47c2-e6ca-f0af2553ba5d",
        "colab": {
          "base_uri": "https://localhost:8080/",
          "height": 136
        }
      },
      "source": [
        "nltk.download('punkt')\n",
        "nltk.download('stopwords')\n",
        "nltk.download('wordnet')"
      ],
      "execution_count": null,
      "outputs": [
        {
          "output_type": "stream",
          "text": [
            "[nltk_data] Downloading package punkt to /root/nltk_data...\n",
            "[nltk_data]   Package punkt is already up-to-date!\n",
            "[nltk_data] Downloading package stopwords to /root/nltk_data...\n",
            "[nltk_data]   Package stopwords is already up-to-date!\n",
            "[nltk_data] Downloading package wordnet to /root/nltk_data...\n",
            "[nltk_data]   Unzipping corpora/wordnet.zip.\n"
          ],
          "name": "stdout"
        },
        {
          "output_type": "execute_result",
          "data": {
            "text/plain": [
              "True"
            ]
          },
          "metadata": {
            "tags": []
          },
          "execution_count": 32
        }
      ]
    },
    {
      "cell_type": "code",
      "metadata": {
        "id": "RSZOlSGoZAAr",
        "outputId": "7814fd3a-3ab1-40a4-c10e-9018f515ae32",
        "colab": {
          "base_uri": "https://localhost:8080/",
          "height": 547
        }
      },
      "source": [
        "sentences = nltk.sent_tokenize(Screener)\n",
        "for sentence in sentences:\n",
        "    print(sentence)\n",
        "    print()"
      ],
      "execution_count": null,
      "outputs": [
        {
          "output_type": "stream",
          "text": [
            "Close Home Screens Tools Create a stock screen Run queries on 10 years of financial data Premium features Export / import trade data See price trends of raw materials and finished goods Search shareholders See companies where a person holds over 1% of the shares Credit rating reports Search credit ratings reports of unlisted competitors Upgrade to premium Login Get free account Screens Tools Login Get account Infosys Chart Analysis Peers Quarters Profit & Loss Balance Sheet Cash Flow Ratios Investors Documents Infosys Ltd Export to Excel Follow infosys.com BSE: 500209 NSE : INFY About Infosys is a leading provider of consulting, technology, outsourcing and next-generation digital services, enabling clients to execute strategies for their digital transformation.\n",
            "\n",
            "Infosys strategic objective is to build a sustainable organization that remains relevant to the agenda of clients, while creating growth opportunities for employees and generating profitable returns for investors.\n",
            "\n",
            "(Source : 201903 Annual Report Page No: 5) show more Website BSE NSE Market Cap ₹ 480,357 Cr.\n",
            "\n",
            "Current Price ₹ 1,128 High / Low ₹ 1,186 / 509 Stock P/E 26.8 Book Value ₹ 167 Dividend Yield 1.55 % ROCE 32.6 % ROE 25.3 % Face Value ₹ 5.00 Add ratio to table Edit ratios 1m 3m 6m 1Yr 3Yr 5Yr Max Price Price to Earning Pros Company is virtually debt free.\n",
            "\n",
            "Company has been maintaining a healthy dividend payout of 54.56% Cons The company has delivered a poor growth of 11.23% over past five years.\n",
            "\n",
            "Promoter holding is low: 13.21% Peer comparison Sector: IT - Software Industry: Computers - Software - Large Edit Columns Loading peers table ...\n",
            "\n",
            "Detailed Comparison with: Quarterly Results Consolidated Figures in Rs.\n",
            "\n",
            "Crores / View Standalone Close Segments Product Segments Dec 2017 Mar 2018 Jun 2018 Sep 2018 Dec 2018 Mar 2019 Jun 2019 Sep 2019 Dec 2019 Mar 2020 Jun 2020 Sep 2020 Sales + 17,794 18,083 19,128 20,609 21,400 21,539 21,803 22,629 23,092 23,267 23,665 24,570 Expenses + 12,977 13,271 14,425 15,252 16,441 16,390 16,651 16,990 17,291 17,591 17,544 17,487 Operating Profit 4,817 4,812 4,703 5,357 4,959 5,149 5,152 5,639 5,801 5,676 6,121 7,083 OPM % 27% 27% 25% 26% 23% 24% 24% 25% 25% 24% 26% 29% Other Income 962 652 726 739 753 665 736 626 827 614 475 570 Interest 0 0 0 0 0 0 40 42 42 45 48 48 Depreciation 498 458 436 463 580 531 681 727 737 749 756 855 Profit before tax 5,281 5,006 4,993 5,633 5,132 5,283 5,167 5,496 5,849 5,496 5,792 6,750 Tax % 3% 26% 28% 27% 30% 23% 26% 27% 24% 21% 26% 28% Net Profit 5,129 3,690 3,612 4,110 3,609 4,074 3,798 4,019 4,457 4,321 4,233 4,845 EPS in Rs 11.27 4.25 4.15 9.45 8.30 9.37 8.83 9.46 10.51 10.19 9.98 11.42 Notes Notes Notes Notes Notes Notes Notes Notes Notes Notes Notes Notes Profit & Loss Consolidated Figures in Rs.\n",
            "\n",
            "Crores / View Standalone Close Segments Product Segments Mar 2009 Mar 2010 Mar 2011 Mar 2012 Mar 2013 Mar 2014 Mar 2015 Mar 2016 Mar 2017 Mar 2018 Mar 2019 Mar 2020 TTM Sales + 21,693 22,742 27,501 33,734 40,352 50,133 53,319 62,441 68,484 70,522 82,675 90,791 94,594 Expenses + 14,934 14,879 18,531 23,007 28,814 36,743 38,436 45,362 49,880 51,700 62,505 68,524 69,913 Operating Profit 6,759 7,863 8,970 10,727 11,538 13,390 14,883 17,079 18,604 18,822 20,170 22,267 24,681 OPM % 31% 35% 33% 32% 29% 27% 28% 27% 27% 27% 24% 25% 26% Other Income 912 991 1,211 1,904 2,365 2,664 3,430 3,120 3,050 3,311 2,882 2,803 2,486 Interest 3 2 2 4 5 9 12 0 0 0 0 170 183 Depreciation 761 905 854 928 1,099 1,317 1,017 1,459 1,703 1,863 2,011 2,893 3,097 Profit before tax 6,907 7,947 9,325 11,699 12,799 14,728 17,284 18,740 19,951 20,270 21,041 22,007 23,887 Tax % 13% 21% 27% 29% 26% 28% 28% 28% 28% 21% 27% 24% Net Profit 5,988 6,266 6,835 8,332 9,429 10,656 12,372 13,489 14,353 16,029 15,404 16,594 17,856 EPS in Rs 12.59 13.17 13.70 17.25 19.72 21.94 24.78 26.76 31.36 36.83 35.49 39.10 42.10 Dividend Payout % 22% 23% 50% 32% 25% 34% 55% 41% 41% 59% 60% 45% Compounded Sales Growth 10 Years: 15% 5 Years: 11% 3 Years: 10% TTM: 8% Compounded Profit Growth 10 Years: 10% 5 Years: 6% 3 Years: 5% TTM: 15% Stock Price CAGR 10 Years: 12% 5 Years: 16% 3 Years: 34% 1 Year: 47% Return on Equity 10 Years: 25% 5 Years: 24% 3 Years: 24% Last Year: 25% Balance Sheet Consolidated Figures in Rs.\n",
            "\n",
            "Crores / View Standalone Corporate actions Mar 2009 Mar 2010 Mar 2011 Mar 2012 Mar 2013 Mar 2014 Mar 2015 Mar 2016 Mar 2017 Mar 2018 Mar 2019 Mar 2020 Sep 2020 Share Capital + 286 286 286 286 286 286 572 1,144 1,144 1,088 2,170 2,122 2,123 Reserves 17,968 22,763 25,690 31,046 37,708 44,244 50,164 60,600 67,838 63,835 62,778 63,328 68,877 Borrowings 0 0 0 0 0 0 0 0 0 0 0 4,633 4,715 Other Liabilities + 3,872 4,455 5,317 7,025 8,281 12,436 15,553 13,354 14,166 14,426 19,118 21,717 22,863 Total Liabilities 22,126 27,504 31,293 38,357 46,275 56,966 66,289 75,098 83,148 79,349 84,066 91,800 98,578 Fixed Assets + 4,677 4,946 5,235 5,555 7,139 8,378 11,346 13,386 14,179 12,574 15,710 23,789 23,639 CWIP 677 409 264 590 1,140 961 776 960 1,365 1,606 1,388 954 1,216 Investments 0 3,702 144 372 2,116 4,331 2,270 1,892 16,423 12,163 11,261 8,792 11,354 Other Assets + 16,772 18,447 25,650 31,840 35,880 43,296 51,897 58,860 51,181 53,006 55,707 58,265 62,369 Total Assets 22,126 27,504 31,293 38,357 46,275 56,966 66,289 75,098 83,148 79,349 84,066 91,800 98,578 Cash Flows Consolidated Figures in Rs.\n",
            "\n",
            "Crores / View Standalone Mar 2009 Mar 2010 Mar 2011 Mar 2012 Mar 2013 Mar 2014 Mar 2015 Mar 2016 Mar 2017 Mar 2018 Mar 2019 Mar 2020 Cash from Operating Activity + 5,401 6,187 4,752 6,394 7,373 9,825 8,353 10,028 11,531 13,218 14,841 17,003 Cash from Investing Activity + -213 -3,634 3,443 -147 -2,922 -2,563 999 -885 -14,664 4,533 -632 -331 Cash from Financing Activity + -2,430 -1,485 -3,640 -2,322 -3,210 -3,144 -4,935 -6,813 -6,939 -20,505 -14,512 -17,591 Net Cash Flow 2,758 1,068 4,555 3,925 1,241 4,118 4,417 2,330 -10,072 -2,754 -303 -919 Ratios Consolidated Figures in Rs.\n",
            "\n",
            "Crores / View Standalone Mar 2009 Mar 2010 Mar 2011 Mar 2012 Mar 2013 Mar 2014 Mar 2015 Mar 2016 Mar 2017 Mar 2018 Mar 2019 Mar 2020 ROCE % 43% 38% 38% 41% 37% 36% 36% 33% 30% 30% 32% 33% Debtor Days 62 56 62 64 64 61 66 66 66 68 65 74 Inventory Turnover Shareholding Pattern Numbers in percentages Sep 2017 Dec 2017 Mar 2018 Jun 2018 Sep 2018 Dec 2018 Mar 2019 Jun 2019 Sep 2019 Dec 2019 Mar 2020 Jun 2020 Promoters + 12.75 12.90 12.90 12.90 12.82 12.82 12.84 13.04 13.15 13.15 13.15 13.15 FIIs + 34.08 35.00 35.24 34.87 35.05 34.46 34.04 33.32 33.51 31.76 31.01 30.47 DIIs + 22.14 21.76 21.55 22.50 22.17 22.57 22.87 23.02 22.79 23.99 24.68 25.43 Public + 30.56 29.85 29.82 29.24 29.48 29.67 29.78 30.15 30.10 30.66 30.73 30.53 Others + 0.47 0.49 0.49 0.49 0.48 0.47 0.47 0.47 0.44 0.44 0.43 0.42 Documents Recent announcements Newspaper Advertisement Pertaining To Financial Results Of Q2 FY 2021 22h Modification To The Trust Deeds Consequent To The Change In Composition Of The Trustees - Infosys Employee Benefits Trust And Infosys Expanded Stock Ownership Trust 22h Fixes Record Date for Interim Dividend 1d Statement Of Investor Complaints For The Quarter Ended September 2020 1d Announcement under Regulation 30 (LODR)-Press Release / Media Release 2d View all Annual reports Financial Year 2020 from bse Financial Year 2019 from bse Financial Year 2018 from bse Financial Year 2017 from bse Financial Year 2016 from bse Financial Year 2015 from bse Financial Year 2014 from bse Financial Year 2013 from bse Financial Year 2012 from bse Financial Year 2011 from bse Financial Year 2010 from bse Financial Year 2010 from nse Credit ratings Infosys Limited: Long-term rating removed from 'Watch Developing' ; Ratings Reaffirmed Jan 21 from crisil Infosys Limited: Rating placed on 'Watch Developing' 25 Oct 2019 from crisil Ratings on Infosys Limited (Infosys) remain unaffected by the proposed share buyback announcement 17 Jan 2019 from crisil Infosys Limited: Ratings Reaffirmed 29 Jun 2018 from crisil Stock analysis and screening tool Mittal Analytics Private Ltd © 2009–2020 Made with in India.\n",
            "\n",
            "Data provided by C-MOTS Internet Technologies Pvt Ltd Terms & Privacy .\n",
            "\n",
            "Product Home Features 5 minutes guide Premium What's new?\n",
            "\n",
            "Team About us Support Theme Light Dark Auto Mittal Analytics Private Ltd © 2009–2020 Data provided by C-MOTS Internet Technologies Pvt Ltd Terms & Privacy .\n",
            "\n"
          ],
          "name": "stdout"
        }
      ]
    },
    {
      "cell_type": "code",
      "metadata": {
        "id": "bpMJBcQ_Z19t",
        "outputId": "8cb808e5-baaa-4192-edf4-fc47e711fbdd",
        "colab": {
          "base_uri": "https://localhost:8080/",
          "height": 547
        }
      },
      "source": [
        "for sentence in sentences:\n",
        "    words = nltk.word_tokenize(sentence)\n",
        "    print(words)\n",
        "    print()"
      ],
      "execution_count": null,
      "outputs": [
        {
          "output_type": "stream",
          "text": [
            "['Close', 'Home', 'Screens', 'Tools', 'Create', 'a', 'stock', 'screen', 'Run', 'queries', 'on', '10', 'years', 'of', 'financial', 'data', 'Premium', 'features', 'Export', '/', 'import', 'trade', 'data', 'See', 'price', 'trends', 'of', 'raw', 'materials', 'and', 'finished', 'goods', 'Search', 'shareholders', 'See', 'companies', 'where', 'a', 'person', 'holds', 'over', '1', '%', 'of', 'the', 'shares', 'Credit', 'rating', 'reports', 'Search', 'credit', 'ratings', 'reports', 'of', 'unlisted', 'competitors', 'Upgrade', 'to', 'premium', 'Login', 'Get', 'free', 'account', 'Screens', 'Tools', 'Login', 'Get', 'account', 'Infosys', 'Chart', 'Analysis', 'Peers', 'Quarters', 'Profit', '&', 'Loss', 'Balance', 'Sheet', 'Cash', 'Flow', 'Ratios', 'Investors', 'Documents', 'Infosys', 'Ltd', 'Export', 'to', 'Excel', 'Follow', 'infosys.com', 'BSE', ':', '500209', 'NSE', ':', 'INFY', 'About', 'Infosys', 'is', 'a', 'leading', 'provider', 'of', 'consulting', ',', 'technology', ',', 'outsourcing', 'and', 'next-generation', 'digital', 'services', ',', 'enabling', 'clients', 'to', 'execute', 'strategies', 'for', 'their', 'digital', 'transformation', '.']\n",
            "\n",
            "['Infosys', 'strategic', 'objective', 'is', 'to', 'build', 'a', 'sustainable', 'organization', 'that', 'remains', 'relevant', 'to', 'the', 'agenda', 'of', 'clients', ',', 'while', 'creating', 'growth', 'opportunities', 'for', 'employees', 'and', 'generating', 'profitable', 'returns', 'for', 'investors', '.']\n",
            "\n",
            "['(', 'Source', ':', '201903', 'Annual', 'Report', 'Page', 'No', ':', '5', ')', 'show', 'more', 'Website', 'BSE', 'NSE', 'Market', 'Cap', '₹', '480,357', 'Cr', '.']\n",
            "\n",
            "['Current', 'Price', '₹', '1,128', 'High', '/', 'Low', '₹', '1,186', '/', '509', 'Stock', 'P/E', '26.8', 'Book', 'Value', '₹', '167', 'Dividend', 'Yield', '1.55', '%', 'ROCE', '32.6', '%', 'ROE', '25.3', '%', 'Face', 'Value', '₹', '5.00', 'Add', 'ratio', 'to', 'table', 'Edit', 'ratios', '1m', '3m', '6m', '1Yr', '3Yr', '5Yr', 'Max', 'Price', 'Price', 'to', 'Earning', 'Pros', 'Company', 'is', 'virtually', 'debt', 'free', '.']\n",
            "\n",
            "['Company', 'has', 'been', 'maintaining', 'a', 'healthy', 'dividend', 'payout', 'of', '54.56', '%', 'Cons', 'The', 'company', 'has', 'delivered', 'a', 'poor', 'growth', 'of', '11.23', '%', 'over', 'past', 'five', 'years', '.']\n",
            "\n",
            "['Promoter', 'holding', 'is', 'low', ':', '13.21', '%', 'Peer', 'comparison', 'Sector', ':', 'IT', '-', 'Software', 'Industry', ':', 'Computers', '-', 'Software', '-', 'Large', 'Edit', 'Columns', 'Loading', 'peers', 'table', '...']\n",
            "\n",
            "['Detailed', 'Comparison', 'with', ':', 'Quarterly', 'Results', 'Consolidated', 'Figures', 'in', 'Rs', '.']\n",
            "\n",
            "['Crores', '/', 'View', 'Standalone', 'Close', 'Segments', 'Product', 'Segments', 'Dec', '2017', 'Mar', '2018', 'Jun', '2018', 'Sep', '2018', 'Dec', '2018', 'Mar', '2019', 'Jun', '2019', 'Sep', '2019', 'Dec', '2019', 'Mar', '2020', 'Jun', '2020', 'Sep', '2020', 'Sales', '+', '17,794', '18,083', '19,128', '20,609', '21,400', '21,539', '21,803', '22,629', '23,092', '23,267', '23,665', '24,570', 'Expenses', '+', '12,977', '13,271', '14,425', '15,252', '16,441', '16,390', '16,651', '16,990', '17,291', '17,591', '17,544', '17,487', 'Operating', 'Profit', '4,817', '4,812', '4,703', '5,357', '4,959', '5,149', '5,152', '5,639', '5,801', '5,676', '6,121', '7,083', 'OPM', '%', '27', '%', '27', '%', '25', '%', '26', '%', '23', '%', '24', '%', '24', '%', '25', '%', '25', '%', '24', '%', '26', '%', '29', '%', 'Other', 'Income', '962', '652', '726', '739', '753', '665', '736', '626', '827', '614', '475', '570', 'Interest', '0', '0', '0', '0', '0', '0', '40', '42', '42', '45', '48', '48', 'Depreciation', '498', '458', '436', '463', '580', '531', '681', '727', '737', '749', '756', '855', 'Profit', 'before', 'tax', '5,281', '5,006', '4,993', '5,633', '5,132', '5,283', '5,167', '5,496', '5,849', '5,496', '5,792', '6,750', 'Tax', '%', '3', '%', '26', '%', '28', '%', '27', '%', '30', '%', '23', '%', '26', '%', '27', '%', '24', '%', '21', '%', '26', '%', '28', '%', 'Net', 'Profit', '5,129', '3,690', '3,612', '4,110', '3,609', '4,074', '3,798', '4,019', '4,457', '4,321', '4,233', '4,845', 'EPS', 'in', 'Rs', '11.27', '4.25', '4.15', '9.45', '8.30', '9.37', '8.83', '9.46', '10.51', '10.19', '9.98', '11.42', 'Notes', 'Notes', 'Notes', 'Notes', 'Notes', 'Notes', 'Notes', 'Notes', 'Notes', 'Notes', 'Notes', 'Notes', 'Profit', '&', 'Loss', 'Consolidated', 'Figures', 'in', 'Rs', '.']\n",
            "\n",
            "['Crores', '/', 'View', 'Standalone', 'Close', 'Segments', 'Product', 'Segments', 'Mar', '2009', 'Mar', '2010', 'Mar', '2011', 'Mar', '2012', 'Mar', '2013', 'Mar', '2014', 'Mar', '2015', 'Mar', '2016', 'Mar', '2017', 'Mar', '2018', 'Mar', '2019', 'Mar', '2020', 'TTM', 'Sales', '+', '21,693', '22,742', '27,501', '33,734', '40,352', '50,133', '53,319', '62,441', '68,484', '70,522', '82,675', '90,791', '94,594', 'Expenses', '+', '14,934', '14,879', '18,531', '23,007', '28,814', '36,743', '38,436', '45,362', '49,880', '51,700', '62,505', '68,524', '69,913', 'Operating', 'Profit', '6,759', '7,863', '8,970', '10,727', '11,538', '13,390', '14,883', '17,079', '18,604', '18,822', '20,170', '22,267', '24,681', 'OPM', '%', '31', '%', '35', '%', '33', '%', '32', '%', '29', '%', '27', '%', '28', '%', '27', '%', '27', '%', '27', '%', '24', '%', '25', '%', '26', '%', 'Other', 'Income', '912', '991', '1,211', '1,904', '2,365', '2,664', '3,430', '3,120', '3,050', '3,311', '2,882', '2,803', '2,486', 'Interest', '3', '2', '2', '4', '5', '9', '12', '0', '0', '0', '0', '170', '183', 'Depreciation', '761', '905', '854', '928', '1,099', '1,317', '1,017', '1,459', '1,703', '1,863', '2,011', '2,893', '3,097', 'Profit', 'before', 'tax', '6,907', '7,947', '9,325', '11,699', '12,799', '14,728', '17,284', '18,740', '19,951', '20,270', '21,041', '22,007', '23,887', 'Tax', '%', '13', '%', '21', '%', '27', '%', '29', '%', '26', '%', '28', '%', '28', '%', '28', '%', '28', '%', '21', '%', '27', '%', '24', '%', 'Net', 'Profit', '5,988', '6,266', '6,835', '8,332', '9,429', '10,656', '12,372', '13,489', '14,353', '16,029', '15,404', '16,594', '17,856', 'EPS', 'in', 'Rs', '12.59', '13.17', '13.70', '17.25', '19.72', '21.94', '24.78', '26.76', '31.36', '36.83', '35.49', '39.10', '42.10', 'Dividend', 'Payout', '%', '22', '%', '23', '%', '50', '%', '32', '%', '25', '%', '34', '%', '55', '%', '41', '%', '41', '%', '59', '%', '60', '%', '45', '%', 'Compounded', 'Sales', 'Growth', '10', 'Years', ':', '15', '%', '5', 'Years', ':', '11', '%', '3', 'Years', ':', '10', '%', 'TTM', ':', '8', '%', 'Compounded', 'Profit', 'Growth', '10', 'Years', ':', '10', '%', '5', 'Years', ':', '6', '%', '3', 'Years', ':', '5', '%', 'TTM', ':', '15', '%', 'Stock', 'Price', 'CAGR', '10', 'Years', ':', '12', '%', '5', 'Years', ':', '16', '%', '3', 'Years', ':', '34', '%', '1', 'Year', ':', '47', '%', 'Return', 'on', 'Equity', '10', 'Years', ':', '25', '%', '5', 'Years', ':', '24', '%', '3', 'Years', ':', '24', '%', 'Last', 'Year', ':', '25', '%', 'Balance', 'Sheet', 'Consolidated', 'Figures', 'in', 'Rs', '.']\n",
            "\n",
            "['Crores', '/', 'View', 'Standalone', 'Corporate', 'actions', 'Mar', '2009', 'Mar', '2010', 'Mar', '2011', 'Mar', '2012', 'Mar', '2013', 'Mar', '2014', 'Mar', '2015', 'Mar', '2016', 'Mar', '2017', 'Mar', '2018', 'Mar', '2019', 'Mar', '2020', 'Sep', '2020', 'Share', 'Capital', '+', '286', '286', '286', '286', '286', '286', '572', '1,144', '1,144', '1,088', '2,170', '2,122', '2,123', 'Reserves', '17,968', '22,763', '25,690', '31,046', '37,708', '44,244', '50,164', '60,600', '67,838', '63,835', '62,778', '63,328', '68,877', 'Borrowings', '0', '0', '0', '0', '0', '0', '0', '0', '0', '0', '0', '4,633', '4,715', 'Other', 'Liabilities', '+', '3,872', '4,455', '5,317', '7,025', '8,281', '12,436', '15,553', '13,354', '14,166', '14,426', '19,118', '21,717', '22,863', 'Total', 'Liabilities', '22,126', '27,504', '31,293', '38,357', '46,275', '56,966', '66,289', '75,098', '83,148', '79,349', '84,066', '91,800', '98,578', 'Fixed', 'Assets', '+', '4,677', '4,946', '5,235', '5,555', '7,139', '8,378', '11,346', '13,386', '14,179', '12,574', '15,710', '23,789', '23,639', 'CWIP', '677', '409', '264', '590', '1,140', '961', '776', '960', '1,365', '1,606', '1,388', '954', '1,216', 'Investments', '0', '3,702', '144', '372', '2,116', '4,331', '2,270', '1,892', '16,423', '12,163', '11,261', '8,792', '11,354', 'Other', 'Assets', '+', '16,772', '18,447', '25,650', '31,840', '35,880', '43,296', '51,897', '58,860', '51,181', '53,006', '55,707', '58,265', '62,369', 'Total', 'Assets', '22,126', '27,504', '31,293', '38,357', '46,275', '56,966', '66,289', '75,098', '83,148', '79,349', '84,066', '91,800', '98,578', 'Cash', 'Flows', 'Consolidated', 'Figures', 'in', 'Rs', '.']\n",
            "\n",
            "['Crores', '/', 'View', 'Standalone', 'Mar', '2009', 'Mar', '2010', 'Mar', '2011', 'Mar', '2012', 'Mar', '2013', 'Mar', '2014', 'Mar', '2015', 'Mar', '2016', 'Mar', '2017', 'Mar', '2018', 'Mar', '2019', 'Mar', '2020', 'Cash', 'from', 'Operating', 'Activity', '+', '5,401', '6,187', '4,752', '6,394', '7,373', '9,825', '8,353', '10,028', '11,531', '13,218', '14,841', '17,003', 'Cash', 'from', 'Investing', 'Activity', '+', '-213', '-3,634', '3,443', '-147', '-2,922', '-2,563', '999', '-885', '-14,664', '4,533', '-632', '-331', 'Cash', 'from', 'Financing', 'Activity', '+', '-2,430', '-1,485', '-3,640', '-2,322', '-3,210', '-3,144', '-4,935', '-6,813', '-6,939', '-20,505', '-14,512', '-17,591', 'Net', 'Cash', 'Flow', '2,758', '1,068', '4,555', '3,925', '1,241', '4,118', '4,417', '2,330', '-10,072', '-2,754', '-303', '-919', 'Ratios', 'Consolidated', 'Figures', 'in', 'Rs', '.']\n",
            "\n",
            "['Crores', '/', 'View', 'Standalone', 'Mar', '2009', 'Mar', '2010', 'Mar', '2011', 'Mar', '2012', 'Mar', '2013', 'Mar', '2014', 'Mar', '2015', 'Mar', '2016', 'Mar', '2017', 'Mar', '2018', 'Mar', '2019', 'Mar', '2020', 'ROCE', '%', '43', '%', '38', '%', '38', '%', '41', '%', '37', '%', '36', '%', '36', '%', '33', '%', '30', '%', '30', '%', '32', '%', '33', '%', 'Debtor', 'Days', '62', '56', '62', '64', '64', '61', '66', '66', '66', '68', '65', '74', 'Inventory', 'Turnover', 'Shareholding', 'Pattern', 'Numbers', 'in', 'percentages', 'Sep', '2017', 'Dec', '2017', 'Mar', '2018', 'Jun', '2018', 'Sep', '2018', 'Dec', '2018', 'Mar', '2019', 'Jun', '2019', 'Sep', '2019', 'Dec', '2019', 'Mar', '2020', 'Jun', '2020', 'Promoters', '+', '12.75', '12.90', '12.90', '12.90', '12.82', '12.82', '12.84', '13.04', '13.15', '13.15', '13.15', '13.15', 'FIIs', '+', '34.08', '35.00', '35.24', '34.87', '35.05', '34.46', '34.04', '33.32', '33.51', '31.76', '31.01', '30.47', 'DIIs', '+', '22.14', '21.76', '21.55', '22.50', '22.17', '22.57', '22.87', '23.02', '22.79', '23.99', '24.68', '25.43', 'Public', '+', '30.56', '29.85', '29.82', '29.24', '29.48', '29.67', '29.78', '30.15', '30.10', '30.66', '30.73', '30.53', 'Others', '+', '0.47', '0.49', '0.49', '0.49', '0.48', '0.47', '0.47', '0.47', '0.44', '0.44', '0.43', '0.42', 'Documents', 'Recent', 'announcements', 'Newspaper', 'Advertisement', 'Pertaining', 'To', 'Financial', 'Results', 'Of', 'Q2', 'FY', '2021', '22h', 'Modification', 'To', 'The', 'Trust', 'Deeds', 'Consequent', 'To', 'The', 'Change', 'In', 'Composition', 'Of', 'The', 'Trustees', '-', 'Infosys', 'Employee', 'Benefits', 'Trust', 'And', 'Infosys', 'Expanded', 'Stock', 'Ownership', 'Trust', '22h', 'Fixes', 'Record', 'Date', 'for', 'Interim', 'Dividend', '1d', 'Statement', 'Of', 'Investor', 'Complaints', 'For', 'The', 'Quarter', 'Ended', 'September', '2020', '1d', 'Announcement', 'under', 'Regulation', '30', '(', 'LODR', ')', '-Press', 'Release', '/', 'Media', 'Release', '2d', 'View', 'all', 'Annual', 'reports', 'Financial', 'Year', '2020', 'from', 'bse', 'Financial', 'Year', '2019', 'from', 'bse', 'Financial', 'Year', '2018', 'from', 'bse', 'Financial', 'Year', '2017', 'from', 'bse', 'Financial', 'Year', '2016', 'from', 'bse', 'Financial', 'Year', '2015', 'from', 'bse', 'Financial', 'Year', '2014', 'from', 'bse', 'Financial', 'Year', '2013', 'from', 'bse', 'Financial', 'Year', '2012', 'from', 'bse', 'Financial', 'Year', '2011', 'from', 'bse', 'Financial', 'Year', '2010', 'from', 'bse', 'Financial', 'Year', '2010', 'from', 'nse', 'Credit', 'ratings', 'Infosys', 'Limited', ':', 'Long-term', 'rating', 'removed', 'from', \"'Watch\", 'Developing', \"'\", ';', 'Ratings', 'Reaffirmed', 'Jan', '21', 'from', 'crisil', 'Infosys', 'Limited', ':', 'Rating', 'placed', 'on', \"'Watch\", 'Developing', \"'\", '25', 'Oct', '2019', 'from', 'crisil', 'Ratings', 'on', 'Infosys', 'Limited', '(', 'Infosys', ')', 'remain', 'unaffected', 'by', 'the', 'proposed', 'share', 'buyback', 'announcement', '17', 'Jan', '2019', 'from', 'crisil', 'Infosys', 'Limited', ':', 'Ratings', 'Reaffirmed', '29', 'Jun', '2018', 'from', 'crisil', 'Stock', 'analysis', 'and', 'screening', 'tool', 'Mittal', 'Analytics', 'Private', 'Ltd', '©', '2009–2020', 'Made', 'with', 'in', 'India', '.']\n",
            "\n",
            "['Data', 'provided', 'by', 'C-MOTS', 'Internet', 'Technologies', 'Pvt', 'Ltd', 'Terms', '&', 'Privacy', '.']\n",
            "\n",
            "['Product', 'Home', 'Features', '5', 'minutes', 'guide', 'Premium', 'What', \"'s\", 'new', '?']\n",
            "\n",
            "['Team', 'About', 'us', 'Support', 'Theme', 'Light', 'Dark', 'Auto', 'Mittal', 'Analytics', 'Private', 'Ltd', '©', '2009–2020', 'Data', 'provided', 'by', 'C-MOTS', 'Internet', 'Technologies', 'Pvt', 'Ltd', 'Terms', '&', 'Privacy', '.']\n",
            "\n"
          ],
          "name": "stdout"
        }
      ]
    },
    {
      "cell_type": "code",
      "metadata": {
        "id": "o8oOHIh6mnzN",
        "outputId": "2cfbfc37-f017-4876-ca90-90d29f347f46",
        "colab": {
          "base_uri": "https://localhost:8080/",
          "height": 197
        }
      },
      "source": [
        "from nltk.stem import PorterStemmer, WordNetLemmatizer\n",
        "from nltk.corpus import wordnet\n",
        "\n",
        "from nltk.stem import WordNetLemmatizer\n",
        "lemmatizer = WordNetLemmatizer(sentence)"
      ],
      "execution_count": null,
      "outputs": [
        {
          "output_type": "error",
          "ename": "TypeError",
          "evalue": "ignored",
          "traceback": [
            "\u001b[0;31m---------------------------------------------------------------------------\u001b[0m",
            "\u001b[0;31mTypeError\u001b[0m                                 Traceback (most recent call last)",
            "\u001b[0;32m<ipython-input-49-c21f20df234d>\u001b[0m in \u001b[0;36m<module>\u001b[0;34m()\u001b[0m\n\u001b[1;32m      3\u001b[0m \u001b[0;34m\u001b[0m\u001b[0m\n\u001b[1;32m      4\u001b[0m \u001b[0;32mfrom\u001b[0m \u001b[0mnltk\u001b[0m\u001b[0;34m.\u001b[0m\u001b[0mstem\u001b[0m \u001b[0;32mimport\u001b[0m \u001b[0mWordNetLemmatizer\u001b[0m\u001b[0;34m\u001b[0m\u001b[0;34m\u001b[0m\u001b[0m\n\u001b[0;32m----> 5\u001b[0;31m \u001b[0mlemmatizer\u001b[0m \u001b[0;34m=\u001b[0m \u001b[0mWordNetLemmatizer\u001b[0m\u001b[0;34m(\u001b[0m\u001b[0msentence\u001b[0m\u001b[0;34m)\u001b[0m\u001b[0;34m\u001b[0m\u001b[0;34m\u001b[0m\u001b[0m\n\u001b[0m",
            "\u001b[0;31mTypeError\u001b[0m: __init__() takes 1 positional argument but 2 were given"
          ]
        }
      ]
    },
    {
      "cell_type": "code",
      "metadata": {
        "id": "kzWHZJSBaD-c"
      },
      "source": [
        "from nltk.stem import PorterStemmer, WordNetLemmatizer\n",
        "from nltk.corpus import wordnet\n",
        "def compare_stemmer_and_lemmatizer(stemmer, lemmatizer, word, pos):\n",
        "  for words in sentences:\n",
        "    lemmatizer = WordNetLemmatizer(words)\n",
        "    print(\"Lemmatizer:\", lemmatizer.lemmatize(word, pos))\n",
        "    print()\n",
        "    \"\"\"\n",
        "    Print the results of stemmind and lemmitization using the passed stemmer, lemmatizer, word and pos (part of speech)\n",
        "    \"\"\"\n",
        "#for words in sentences\n",
        "#    lemmatizer = WordNetLemmatizer(words)\n",
        "\n",
        "    #print(\"Stemmer:\", stemmer.stem(word))\n",
        "    print(\"Lemmatizer:\", lemmatizer.lemmatize(word, pos))\n",
        "    print()\n",
        "\n",
        "#lemmatizer = WordNetLemmatizer(words)\n",
        "#stemmer = PorterStemmer(words)\n",
        "#compare_stemmer_and_lemmatizer(stemmer, lemmatizer, word = \"seen\", pos = wordnet.VERB)\n",
        "#compare_stemmer_and_lemmatizer(stemmer, lemmatizer, word = \"drove\", pos = wordnet.VERB)"
      ],
      "execution_count": null,
      "outputs": []
    },
    {
      "cell_type": "code",
      "metadata": {
        "id": "ZebyQUwDbCos",
        "outputId": "8ccc5b6d-92cb-4ade-d11d-f077c8de99a6",
        "colab": {
          "base_uri": "https://localhost:8080/",
          "height": 71
        }
      },
      "source": [
        "from nltk.corpus import stopwords\n",
        "print(stopwords.words(\"english\"))\n",
        "\n",
        "sentences = nltk.sent_tokenize(Screener)\n",
        "for sentence in sentences:\n",
        "    print(sentence)\n",
        "    print()\n",
        "    \n",
        "stop_words = set(stopwords.words(\"english\"))\n",
        "words = nltk.word_tokenize(sentence)\n",
        "without_stop_words = [word for word in words if not word in stop_words]\n",
        "print(without_stop_words)"
      ],
      "execution_count": null,
      "outputs": [
        {
          "output_type": "stream",
          "text": [
            "['i', 'me', 'my', 'myself', 'we', 'our', 'ours', 'ourselves', 'you', \"you're\", \"you've\", \"you'll\", \"you'd\", 'your', 'yours', 'yourself', 'yourselves', 'he', 'him', 'his', 'himself', 'she', \"she's\", 'her', 'hers', 'herself', 'it', \"it's\", 'its', 'itself', 'they', 'them', 'their', 'theirs', 'themselves', 'what', 'which', 'who', 'whom', 'this', 'that', \"that'll\", 'these', 'those', 'am', 'is', 'are', 'was', 'were', 'be', 'been', 'being', 'have', 'has', 'had', 'having', 'do', 'does', 'did', 'doing', 'a', 'an', 'the', 'and', 'but', 'if', 'or', 'because', 'as', 'until', 'while', 'of', 'at', 'by', 'for', 'with', 'about', 'against', 'between', 'into', 'through', 'during', 'before', 'after', 'above', 'below', 'to', 'from', 'up', 'down', 'in', 'out', 'on', 'off', 'over', 'under', 'again', 'further', 'then', 'once', 'here', 'there', 'when', 'where', 'why', 'how', 'all', 'any', 'both', 'each', 'few', 'more', 'most', 'other', 'some', 'such', 'no', 'nor', 'not', 'only', 'own', 'same', 'so', 'than', 'too', 'very', 's', 't', 'can', 'will', 'just', 'don', \"don't\", 'should', \"should've\", 'now', 'd', 'll', 'm', 'o', 're', 've', 'y', 'ain', 'aren', \"aren't\", 'couldn', \"couldn't\", 'didn', \"didn't\", 'doesn', \"doesn't\", 'hadn', \"hadn't\", 'hasn', \"hasn't\", 'haven', \"haven't\", 'isn', \"isn't\", 'ma', 'mightn', \"mightn't\", 'mustn', \"mustn't\", 'needn', \"needn't\", 'shan', \"shan't\", 'shouldn', \"shouldn't\", 'wasn', \"wasn't\", 'weren', \"weren't\", 'won', \"won't\", 'wouldn', \"wouldn't\"]\n",
            "['Backgammon', 'one', 'oldest', 'known', 'board', 'games', '.']\n"
          ],
          "name": "stdout"
        }
      ]
    },
    {
      "cell_type": "code",
      "metadata": {
        "id": "b-1GfDj-bJ5t",
        "outputId": "44b6c75b-c8a8-4313-90a4-4a92ae1fd9cf",
        "colab": {
          "base_uri": "https://localhost:8080/",
          "height": 34
        }
      },
      "source": [
        ""
      ],
      "execution_count": null,
      "outputs": [
        {
          "output_type": "stream",
          "text": [
            "['Backgammon', 'one', 'oldest', 'known', 'board', 'games', '.']\n"
          ],
          "name": "stdout"
        }
      ]
    },
    {
      "cell_type": "code",
      "metadata": {
        "id": "mRiGKQ39X54T"
      },
      "source": [
        "from nltk.stem import WordNetLemmatizer\n",
        "lemmatizer = WordNetLemmatizer"
      ],
      "execution_count": null,
      "outputs": []
    }
  ]
}